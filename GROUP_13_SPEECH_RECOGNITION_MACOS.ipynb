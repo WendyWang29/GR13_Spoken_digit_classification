{
 "cells": [
  {
   "cell_type": "markdown",
   "id": "raising-airline",
   "metadata": {},
   "source": [
    "# Assignment 1 - speech recognition - group 13\n",
    "MACOS version\n",
    "\n",
    "steps:\n",
    "* data set preparation\n",
    "* getting the label\n",
    "* MFCC computation\n",
    "* K-Fold CV to choose the algorithm\n",
    "* splitting\n",
    "* Ranzomized Search for the hyperparameters\n",
    "* Random Forest algorithm\n",
    "* Results\n"
   ]
  },
  {
   "cell_type": "code",
   "execution_count": null,
   "id": "tamil-procedure",
   "metadata": {},
   "outputs": [],
   "source": [
    "import numpy as np\n",
    "import pandas as pd\n",
    "import librosa.display\n",
    "import librosa\n",
    "import IPython.display as ipd\n",
    "import matplotlib.pyplot as plt\n",
    "import os\n",
    "from sklearn import metrics   \n",
    "from sklearn.svm import SVC\n",
    "from sklearn.ensemble import RandomForestClassifier \n",
    "from sklearn.neighbors import KNeighborsClassifier \n",
    "from sklearn.model_selection import train_test_split\n",
    "from sklearn.model_selection import cross_val_score\n",
    "from sklearn.metrics import classification_report, accuracy_score"
   ]
  },
  {
   "cell_type": "markdown",
   "id": "direct-hygiene",
   "metadata": {},
   "source": [
    "## Data set preparation\n"
   ]
  },
  {
   "cell_type": "code",
   "execution_count": 6,
   "id": "practical-falls",
   "metadata": {},
   "outputs": [
    {
     "name": "stdout",
     "output_type": "stream",
     "text": [
      "Requirement already satisfied: svn in c:\\users\\wendy\\miniconda3\\envs\\cmls\\lib\\site-packages (1.0.1)\n",
      "Requirement already satisfied: python-dateutil>=2.2 in c:\\users\\wendy\\miniconda3\\envs\\cmls\\lib\\site-packages (from svn) (2.8.1)\n",
      "Requirement already satisfied: nose in c:\\users\\wendy\\miniconda3\\envs\\cmls\\lib\\site-packages (from svn) (1.3.7)\n",
      "Requirement already satisfied: six>=1.5 in c:\\users\\wendy\\miniconda3\\envs\\cmls\\lib\\site-packages (from python-dateutil>=2.2->svn) (1.15.0)\n",
      "Checked out revision 65.\n"
     ]
    }
   ],
   "source": [
    "# svn\n",
    "!pip install svn\n",
    "import svn\n",
    "!svn checkout https://github.com/Jakobovski/free-spoken-digit-dataset/trunk/recordings repo"
   ]
  },
  {
   "cell_type": "code",
   "execution_count": 8,
   "id": "prepared-federal",
   "metadata": {},
   "outputs": [],
   "source": [
    "n_mfcc = 20   # number of MFCC we will use\n",
    "freq = 16000   # sampling rate\n",
    "\n",
    "#getting the list of files from the GitHub repository\n",
    "from pathlib import Path\n",
    "audiofiles = [str(file) for file in Path().glob('repo/*.wav')]\n",
    "\n",
    "# creating a dictionary to store data\n",
    "data = {'mfcc':[], 'labels':[]}\n",
    "for i,file in enumerate(audiofiles):\n",
    "    fileid = file.split('_')[0]\n",
    "    label  = fileid.split('/')[1]\n",
    "    data[\"labels\"].append(label)\n",
    "    \n",
    "    #load the audio files\n",
    "    audio, sr = librosa.load(file, sr=freq)\n",
    "        \n",
    "    #compute the MFCCs for each audio file\n",
    "    mfcc = librosa.feature.mfcc(audio, sr=freq, n_fft =512, n_mfcc = n_mfcc)\n",
    "    feature_vector =np.mean(mfcc, axis = 1)\n",
    "    \n",
    "    #features_matrix[i,:] = feature_vector\n",
    "    data[\"mfcc\"].append(feature_vector)\n"
   ]
  },
  {
   "cell_type": "code",
   "execution_count": 9,
   "id": "scenic-thailand",
   "metadata": {},
   "outputs": [
    {
     "name": "stdout",
     "output_type": "stream",
     "text": [
      "Got 3000 rows of data\n",
      "Dimension of vector of labels is: (3000,)\n",
      "Dimension of matrix of feautures is: (3000, 20)\n"
     ]
    }
   ],
   "source": [
    "# verify that I got all the 3000 audio files\n",
    "print('Got {} rows of data'.format(len(data['mfcc'])))\n",
    "\n",
    "# create the flattened matrix of MFCCs -->  go from a list of arrays to a 2D matrix\n",
    "MFCC_matrix =np.asarray( data['mfcc'])\n",
    "\n",
    "# ...same for the labels vector\n",
    "LABELS_vector = np.asarray(data[\"labels\"])\n",
    "\n",
    "print('Dimension of vector of labels is: {}'.format(LABELS_vector.shape))\n",
    "print('Dimension of matrix of feautures is: {}'.format(MFCC_matrix.shape))"
   ]
  },
  {
   "cell_type": "code",
   "execution_count": 23,
   "id": "found-navigator",
   "metadata": {
    "scrolled": true
   },
   "outputs": [
    {
     "data": {
      "text/html": [
       "\n",
       "                <audio  controls=\"controls\" >\n",
       "                    <source src=\"data:audio/wav;base64,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\" type=\"audio/wav\" />\n",
       "                    Your browser does not support the audio element.\n",
       "                </audio>\n",
       "              "
      ],
      "text/plain": [
       "<IPython.lib.display.Audio object>"
      ]
     },
     "execution_count": 23,
     "metadata": {},
     "output_type": "execute_result"
    }
   ],
   "source": [
    "# listen to the last audio file loaded\n",
    "ipd.Audio(audio, rate=sr)"
   ]
  },
  {
   "cell_type": "code",
   "execution_count": 30,
   "id": "cooked-forty",
   "metadata": {},
   "outputs": [
    {
     "data": {
      "image/png": "[encoded data removed]",
      "text/plain": [
       "<Figure size 432x288 with 2 Axes>"
      ]
     },
     "metadata": {
      "needs_background": "light"
     },
     "output_type": "display_data"
    }
   ],
   "source": [
    "# check the MFCC heatmap for the last audio file\n",
    "librosa.display.specshow(mfcc,x_axis = 'time',sr=sr)\n",
    "plt.title('MFCC heatmap for {}'.format(file))\n",
    "plt.xlabel('Time')\n",
    "plt.ylabel('MFCCs')\n",
    "plt.colorbar()\n",
    "plt.show() "
   ]
  },
  {
   "cell_type": "markdown",
   "id": "continuous-leonard",
   "metadata": {},
   "source": [
    "## K-Fold cross validation : Random Forest / SVC / kNN \n",
    "### (using cross_val_score) (k=10)\n",
    "\n",
    "The random state affects the splitting and that changes the accuracy score. We will evaluate the accuracy of these 3 algorithms using the K Fold cross validation. We will use the default values of the parameters during this process.\n"
   ]
  },
  {
   "cell_type": "code",
   "execution_count": 10,
   "id": "decent-cambodia",
   "metadata": {},
   "outputs": [],
   "source": [
    "svm = SVC()                                  # initialize SVM\n",
    "rf = RandomForestClassifier(n_jobs=2)        # initialize Random Forest\n",
    "knn = KNeighborsClassifier()                 # initialize KNN"
   ]
  },
  {
   "cell_type": "code",
   "execution_count": 11,
   "id": "growing-oklahoma",
   "metadata": {},
   "outputs": [
    {
     "name": "stdout",
     "output_type": "stream",
     "text": [
      "The accuracy for the SVM is 0.5243333333333333\n"
     ]
    }
   ],
   "source": [
    "# support vector \n",
    "print('The accuracy for the SVM is {}'.\n",
    "      format(cross_val_score(svm, MFCC_matrix, LABELS_vector, cv=10, scoring='accuracy').mean()))"
   ]
  },
  {
   "cell_type": "code",
   "execution_count": 12,
   "id": "cognitive-pitch",
   "metadata": {},
   "outputs": [
    {
     "name": "stdout",
     "output_type": "stream",
     "text": [
      "The accuracy for the Random Forest is 0.9133333333333333\n"
     ]
    }
   ],
   "source": [
    "# random forest\n",
    "print('The accuracy for the Random Forest is {}'.\n",
    "      format(cross_val_score(rf, MFCC_matrix, LABELS_vector, cv=10, scoring='accuracy').mean()))"
   ]
  },
  {
   "cell_type": "code",
   "execution_count": 13,
   "id": "unexpected-belfast",
   "metadata": {},
   "outputs": [
    {
     "name": "stdout",
     "output_type": "stream",
     "text": [
      "The accuracy for the KNN is 0.8709999999999999\n"
     ]
    }
   ],
   "source": [
    "# kNN\n",
    "print('The accuracy for the KNN is {}'.\n",
    "      format(cross_val_score(knn, MFCC_matrix, LABELS_vector, cv=10, scoring='accuracy').mean()))"
   ]
  },
  {
   "cell_type": "markdown",
   "id": "anticipated-malpractice",
   "metadata": {},
   "source": [
    "The Random Forest algorithm shows the best performance."
   ]
  },
  {
   "cell_type": "markdown",
   "id": "reflected-pricing",
   "metadata": {},
   "source": [
    "## Proportionate splitting "
   ]
  },
  {
   "cell_type": "code",
   "execution_count": 14,
   "id": "rapid-inclusion",
   "metadata": {},
   "outputs": [],
   "source": [
    "# renaming\n",
    "y = LABELS_vector\n",
    "X = MFCC_matrix\n",
    "\n",
    "# splitting\n",
    "X_train, X_test, y_train, y_test = train_test_split(X,y, random_state=1, test_size=0.2, stratify=y)\n",
    "\n",
    "\n",
    "from sklearn.preprocessing import StandardScaler\n",
    "sc = StandardScaler()\n",
    "X_train = sc.fit_transform(X_train)\n",
    "X_test = sc.fit_transform(X_test)"
   ]
  },
  {
   "cell_type": "code",
   "execution_count": 15,
   "id": "interpreted-exchange",
   "metadata": {},
   "outputs": [
    {
     "data": {
      "text/plain": [
       "{'0': 240,\n",
       " '1': 240,\n",
       " '2': 240,\n",
       " '3': 240,\n",
       " '4': 240,\n",
       " '5': 240,\n",
       " '6': 240,\n",
       " '7': 240,\n",
       " '8': 240,\n",
       " '9': 240}"
      ]
     },
     "execution_count": 15,
     "metadata": {},
     "output_type": "execute_result"
    }
   ],
   "source": [
    "# Check how the test sample are the same number for each digit\n",
    "unique, counts = np.unique(y_train, return_counts=True)\n",
    "dict(zip(unique, counts))"
   ]
  },
  {
   "cell_type": "markdown",
   "id": "ready-third",
   "metadata": {},
   "source": [
    "## Random Forest - fine tuning\n",
    "### using RandomizedSearchCV\n",
    "Having chosen the Random Forest algorithm we can proceed and evaluate the best parameters to use. "
   ]
  },
  {
   "cell_type": "code",
   "execution_count": 16,
   "id": "divine-victorian",
   "metadata": {},
   "outputs": [],
   "source": [
    "from sklearn.model_selection import RandomizedSearchCV\n",
    "\n",
    "# Number of trees in random forest\n",
    "n_estimators = [200, 400, 600, 800, 1000, 1200, 1400, 1600, 1800, 2000]\n",
    "\n",
    "# Number of features to consider at every split\n",
    "max_features = ['auto', 'sqrt']\n",
    "\n",
    "# Maximum number of levels in tree\n",
    "max_depth = [10, 20, 30, 40, 50, 60, 70, 80, 90, 100, None]\n",
    "\n",
    "# Minimum number of samples required to split a node\n",
    "min_samples_split = [2, 5, 10]\n",
    "\n",
    "# Minimum number of samples required at each leaf node\n",
    "min_samples_leaf = [1, 2, 4]\n",
    "\n",
    "# Method of selecting samples for training each tree\n",
    "bootstrap = [True, False]\n",
    "\n",
    "\n",
    "# Create the random grid\n",
    "random_grid = {'n_estimators': n_estimators,'max_features': max_features,'max_depth': max_depth,\n",
    "'min_samples_split': min_samples_split, 'min_samples_leaf': min_samples_leaf,'bootstrap': bootstrap}"
   ]
  },
  {
   "cell_type": "code",
   "execution_count": 17,
   "id": "outer-comedy",
   "metadata": {},
   "outputs": [
    {
     "name": "stdout",
     "output_type": "stream",
     "text": [
      "Fitting 3 folds for each of 10 candidates, totalling 30 fits\n"
     ]
    },
    {
     "data": {
      "text/plain": [
       "RandomizedSearchCV(cv=3, estimator=RandomForestClassifier(n_jobs=2), n_jobs=-1,\n",
       "                   param_distributions={'bootstrap': [True, False],\n",
       "                                        'max_depth': [10, 20, 30, 40, 50, 60,\n",
       "                                                      70, 80, 90, 100, None],\n",
       "                                        'max_features': ['auto', 'sqrt'],\n",
       "                                        'min_samples_leaf': [1, 2, 4],\n",
       "                                        'min_samples_split': [2, 5, 10],\n",
       "                                        'n_estimators': [200, 400, 600, 800,\n",
       "                                                         1000, 1200, 1400, 1600,\n",
       "                                                         1800, 2000]},\n",
       "                   random_state=1, verbose=2)"
      ]
     },
     "execution_count": 17,
     "metadata": {},
     "output_type": "execute_result"
    }
   ],
   "source": [
    "# Use the random grid to search for best hyperparameters\n",
    "from sklearn.model_selection import RandomizedSearchCV\n",
    "\n",
    "# We have already created the base model to tune\n",
    "# rf = RandomForestClassifier(n_jobs=2)\n",
    "\n",
    "# Random search of parameters, using 3 fold cross validation\n",
    "rf_random = RandomizedSearchCV(estimator = rf, param_distributions = random_grid, n_iter = 10, cv = 3, verbose=2, random_state=1, n_jobs = -1)\n",
    "\n",
    "# Fit the random search model\n",
    "rf_random.fit(X_train, y_train)"
   ]
  },
  {
   "cell_type": "code",
   "execution_count": 18,
   "id": "informative-leave",
   "metadata": {},
   "outputs": [
    {
     "data": {
      "text/plain": [
       "{'n_estimators': 1200,\n",
       " 'min_samples_split': 2,\n",
       " 'min_samples_leaf': 1,\n",
       " 'max_features': 'auto',\n",
       " 'max_depth': 60,\n",
       " 'bootstrap': True}"
      ]
     },
     "execution_count": 18,
     "metadata": {},
     "output_type": "execute_result"
    }
   ],
   "source": [
    "#verify the hyperparameters picked for the model\n",
    "rf_random.best_params_"
   ]
  },
  {
   "cell_type": "markdown",
   "id": "capable-holmes",
   "metadata": {},
   "source": [
    "## PREDICTIONS AND RESULTS"
   ]
  },
  {
   "cell_type": "code",
   "execution_count": 20,
   "id": "published-amber",
   "metadata": {},
   "outputs": [],
   "source": [
    "#predict labels\n",
    "predicted = rf_random.predict(X_test)"
   ]
  },
  {
   "cell_type": "code",
   "execution_count": 21,
   "id": "religious-musical",
   "metadata": {},
   "outputs": [
    {
     "name": "stdout",
     "output_type": "stream",
     "text": [
      "CONFUSION MATRIX _ RANDOM FOREST:\n"
     ]
    },
    {
     "data": {
      "image/png": "[encoded data removed]",
      "text/plain": [
       "<Figure size 432x288 with 2 Axes>"
      ]
     },
     "metadata": {
      "needs_background": "light"
     },
     "output_type": "display_data"
    }
   ],
   "source": [
    "from sklearn.metrics import classification_report, accuracy_score\n",
    "\n",
    "#confusioni matrix\n",
    "print('CONFUSION MATRIX _ RANDOM FOREST:')\n",
    "disp=metrics.plot_confusion_matrix(rf_random, X_test, y_test)"
   ]
  },
  {
   "cell_type": "code",
   "execution_count": 22,
   "id": "acute-consciousness",
   "metadata": {
    "scrolled": true
   },
   "outputs": [
    {
     "name": "stdout",
     "output_type": "stream",
     "text": [
      "CLASSIFICATION REPORT _ RANDOM FOREST:\n",
      "\n",
      "               precision    recall  f1-score   support\n",
      "\n",
      "           0       0.92      0.92      0.92        60\n",
      "           1       0.96      0.92      0.94        60\n",
      "           2       0.93      0.95      0.94        60\n",
      "           3       0.89      0.90      0.89        60\n",
      "           4       0.95      1.00      0.98        60\n",
      "           5       0.97      0.95      0.96        60\n",
      "           6       0.96      0.92      0.94        60\n",
      "           7       0.98      0.98      0.98        60\n",
      "           8       0.97      0.97      0.97        60\n",
      "           9       0.92      0.95      0.93        60\n",
      "\n",
      "    accuracy                           0.94       600\n",
      "   macro avg       0.95      0.94      0.94       600\n",
      "weighted avg       0.95      0.94      0.94       600\n",
      "\n",
      "Accuracy:\n",
      " 0.945\n"
     ]
    }
   ],
   "source": [
    "#classification report\n",
    "print('CLASSIFICATION REPORT _ RANDOM FOREST:\\n\\n',classification_report(y_test,predicted))\n",
    "print('Accuracy:\\n',accuracy_score(y_test, predicted))"
   ]
  },
  {
   "cell_type": "code",
   "execution_count": 52,
   "id": "adverse-discovery",
   "metadata": {},
   "outputs": [
    {
     "name": "stdout",
     "output_type": "stream",
     "text": [
      "The label for this sample in y_test is 8\n",
      "The random forest predicted for it 8\n",
      "Each class got these probabilities: [0.015      0.00166667 0.0025     0.08833333 0.00166667 0.00916667\n",
      " 0.07833333 0.00666667 0.7825     0.01416667]\n"
     ]
    }
   ],
   "source": [
    "# check of the probabilities for a random sample\n",
    "print(\"The label for this sample in y_test is {}\".format((y_test)[60]))\n",
    "print(\"The random forest predicted for it {}\".format((predicted[60])))\n",
    "a = rf_random.predict_proba(X_test)\n",
    "print(\"Each class got these probabilities: {}\".format(a[60]))"
   ]
  }
 ],
 "metadata": {
  "kernelspec": {
   "display_name": "Python 3",
   "language": "python",
   "name": "python3"
  },
  "language_info": {
   "codemirror_mode": {
    "name": "ipython",
    "version": 3
   },
   "file_extension": ".py",
   "mimetype": "text/x-python",
   "name": "python",
   "nbconvert_exporter": "python",
   "pygments_lexer": "ipython3",
   "version": "3.8.8"
  }
 },
 "nbformat": 4,
 "nbformat_minor": 5
}
